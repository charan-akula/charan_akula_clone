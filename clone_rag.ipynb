{
 "cells": [
  {
   "cell_type": "code",
   "execution_count": 2,
   "id": "cc3e4676-fdb4-437b-b18c-16b2e4bd4aa8",
   "metadata": {},
   "outputs": [],
   "source": [
    "from langchain_community.document_loaders import PyPDFLoader\n",
    "\n",
    "# Initialize the loader for the PDF file\n",
    "loader = PyPDFLoader(\"data/charan_pdf.pdf\")\n",
    "\n",
    "# Create a list to store the loaded pages\n",
    "pages = []\n",
    "\n",
    "# Load the pages lazily\n",
    "for doc in loader.lazy_load():\n",
    "    pages.append(doc)"
   ]
  },
  {
   "cell_type": "code",
   "execution_count": 3,
   "id": "62eeba5b-49d4-4978-ba42-6d9317bce178",
   "metadata": {},
   "outputs": [],
   "source": [
    "from langchain_text_splitters import RecursiveCharacterTextSplitter"
   ]
  },
  {
   "cell_type": "code",
   "execution_count": 4,
   "id": "56508ab6-d479-41f2-9486-36d7ab7fab9b",
   "metadata": {},
   "outputs": [],
   "source": [
    "text_splitter = RecursiveCharacterTextSplitter(\n",
    "    chunk_size=1700,\n",
    "    chunk_overlap=50, #This sets the number of characters to overlap between consecutive chunks. Here, the text will have a 20-character overlap at the end of one chunk and the beginning of the next.\n",
    ")"
   ]
  },
  {
   "cell_type": "code",
   "execution_count": 5,
   "id": "d95c932c-7912-4d65-a0db-5b142fff016e",
   "metadata": {},
   "outputs": [],
   "source": [
    "chunks=text_splitter.split_documents(pages)"
   ]
  },
  {
   "cell_type": "code",
   "execution_count": 6,
   "id": "650ef016-eb36-46f9-9abe-25b933daaa6e",
   "metadata": {},
   "outputs": [
    {
     "data": {
      "text/plain": [
       "10"
      ]
     },
     "execution_count": 6,
     "metadata": {},
     "output_type": "execute_result"
    }
   ],
   "source": [
    "len(chunks)"
   ]
  },
  {
   "cell_type": "code",
   "execution_count": 7,
   "id": "c42893d7-b6b7-4d3e-a770-f21196b397b5",
   "metadata": {},
   "outputs": [
    {
     "name": "stdout",
     "output_type": "stream",
     "text": [
      ".env does not exist.\n"
     ]
    }
   ],
   "source": [
    "import os\n",
    "\n",
    "# Define the path to the .env file\n",
    "env_file_path = '.env'\n",
    "\n",
    "# Check if the file exists before trying to delete it\n",
    "if os.path.exists(env_file_path):\n",
    "    os.remove(env_file_path)  # Deletes the file\n",
    "    print(f'{env_file_path} has been deleted.')\n",
    "else:\n",
    "    print(f'{env_file_path} does not exist.')\n"
   ]
  },
  {
   "cell_type": "code",
   "execution_count": 8,
   "id": "41888483-ece8-4d40-bfad-ede58cbdca93",
   "metadata": {},
   "outputs": [
    {
     "name": "stdout",
     "output_type": "stream",
     "text": [
      ".env file created at: .env\n"
     ]
    }
   ],
   "source": [
    "def create_env_file(cohere_api_key, gemini_api_key):\n",
    "    # Define the path to the .env file\n",
    "    env_file_path = \".env\"\n",
    "    \n",
    "    # Content to be written to the .env file\n",
    "    env_content = f\"\"\"\n",
    "COHERE_API_KEY={cohere_api_key}\n",
    "GROQ_API_KEY={groq_api_key}\n",
    "\"\"\"\n",
    "    \n",
    "    # Open the .env file in write mode and create it if it doesn't exist\n",
    "    with open(env_file_path, \"w\") as env_file:\n",
    "        env_file.write(env_content.strip())\n",
    "    \n",
    "    print(f\".env file created at: {env_file_path}\")\n",
    "\n",
    "# Replace with your actual API keys\n",
    "cohere_api_key = \"iNCKnbcXDWcK1F7pHJxuiN9eA9GrCGhbjD4gGMkP\"\n",
    "groq_api_key = \"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\"\n",
    "# Call the function to create the .env file\n",
    "create_env_file(cohere_api_key, groq_api_key)\n"
   ]
  },
  {
   "cell_type": "code",
   "execution_count": 9,
   "id": "a7e7af90-5012-4cc3-b51d-e4bf32523aa1",
   "metadata": {},
   "outputs": [],
   "source": [
    "import os\n",
    "from dotenv import load_dotenv\n",
    "\n",
    "# Load environment variables from the .env file\n",
    "load_dotenv()\n",
    "\n",
    "# Access the API keys from the environment variables\n",
    "cohere_api_key = os.getenv(\"COHERE_API_KEY\")\n",
    "groq_api_key = os.getenv(\"GROQ_API_KEY\")\n"
   ]
  },
  {
   "cell_type": "code",
   "execution_count": 10,
   "id": "c3bfc7cc-20bb-417e-8b3e-7b2f95465a4c",
   "metadata": {},
   "outputs": [],
   "source": [
    "from langchain_cohere import CohereEmbeddings\n",
    "embeddings = CohereEmbeddings(\n",
    "    model=\"embed-english-v3.0\",\n",
    "    cohere_api_key=cohere_api_key\n",
    ")"
   ]
  },
  {
   "cell_type": "code",
   "execution_count": 11,
   "id": "dc53b9c2-77b9-4317-9cb5-4e151e2d18ef",
   "metadata": {},
   "outputs": [],
   "source": [
    "from langchain_community.vectorstores import FAISS\n",
    "db = FAISS.from_documents(chunks, embeddings)"
   ]
  },
  {
   "cell_type": "code",
   "execution_count": 12,
   "id": "e64102bb-bb69-4bf5-8ca8-f8096096c191",
   "metadata": {},
   "outputs": [],
   "source": [
    "db.save_local(\"faiss_store\")"
   ]
  },
  {
   "cell_type": "code",
   "execution_count": null,
   "id": "ad71138e-ea51-4325-98a9-9b1b9fa1e233",
   "metadata": {},
   "outputs": [],
   "source": []
  }
 ],
 "metadata": {
  "kernelspec": {
   "display_name": "Python 3 (ipykernel)",
   "language": "python",
   "name": "python3"
  },
  "language_info": {
   "codemirror_mode": {
    "name": "ipython",
    "version": 3
   },
   "file_extension": ".py",
   "mimetype": "text/x-python",
   "name": "python",
   "nbconvert_exporter": "python",
   "pygments_lexer": "ipython3",
   "version": "3.11.5"
  }
 },
 "nbformat": 4,
 "nbformat_minor": 5
}
